{
 "cells": [
  {
   "cell_type": "markdown",
   "id": "54127908",
   "metadata": {},
   "source": [
    "# Setup"
   ]
  },
  {
   "cell_type": "code",
   "execution_count": 1,
   "id": "fcd4488a",
   "metadata": {},
   "outputs": [],
   "source": [
    "from tensorflow import keras\n",
    "import sklearn\n",
    "from sklearn import metrics \n",
    "import pandas\n",
    "import numpy as np\n",
    "import matplotlib.pyplot as plt\n",
    "\n",
    "import pickle\n",
    "import json\n",
    "import random\n",
    "from tabulate import tabulate"
   ]
  },
  {
   "cell_type": "code",
   "execution_count": 2,
   "id": "fe81166a",
   "metadata": {},
   "outputs": [],
   "source": [
    "# maps encodings to possible genres\n",
    "encoding_to_genre = {\n",
    "    0: 'Country',\n",
    "    1: 'Heavy Metal',\n",
    "    2: 'Hip Hop',\n",
    "    3: 'Indie',\n",
    "    4: 'Pop',\n",
    "    5: 'Rock',\n",
    "}\n",
    "genre_to_encoding = {g: e for e, g in encoding_to_genre.items()}"
   ]
  },
  {
   "cell_type": "markdown",
   "id": "532cf3a4",
   "metadata": {},
   "source": [
    "**Load sample**"
   ]
  },
  {
   "cell_type": "code",
   "execution_count": 3,
   "id": "d7ba8a39",
   "metadata": {},
   "outputs": [],
   "source": [
    "# load sample of dataset \n",
    "df_sample = pandas.read_csv('dataset_sample.csv')\n",
    "\n",
    "# load preprocessed tokens from this sample\n",
    "all_tokens = []\n",
    "with open('processed_tokens_sample.txt', 'r', encoding='utf-8') as infile:\n",
    "    for line in infile:\n",
    "        all_tokens.append(line)"
   ]
  },
  {
   "cell_type": "markdown",
   "id": "e10ddd87",
   "metadata": {},
   "source": [
    "**Load GloVe embeddings and generate vectors of embeddings based on the songs' tokens**"
   ]
  },
  {
   "cell_type": "code",
   "execution_count": 4,
   "id": "a41aadb4",
   "metadata": {},
   "outputs": [],
   "source": [
    "# load custom-trained GloVe embeddings for these songs\n",
    "glove_vectors = []\n",
    "with open('glove_vectors.txt', 'r', encoding='utf-8') as infile:\n",
    "    for line in infile:\n",
    "        vec = np.asarray(line.split(' ')[0:-1], dtype=float)\n",
    "        glove_vectors.append(vec)\n",
    "        \n",
    "glove_dictionary = {}\n",
    "with open('glove_dictionary.json', 'r') as jsonfile:\n",
    "    glove_dictionary = json.load(jsonfile)"
   ]
  },
  {
   "cell_type": "code",
   "execution_count": 5,
   "id": "d535db5a",
   "metadata": {},
   "outputs": [],
   "source": [
    "# generate features (vectors of GloVe embedding averages)\n",
    "\n",
    "EMBEDDING_LENGTH = 200\n",
    "embeddings = []\n",
    "\n",
    "for doc_tokens in all_tokens:\n",
    "    emb_avgs = []\n",
    "    for token in doc_tokens.split(' '):\n",
    "        # average glove embeddings vector for token\n",
    "        # add this average to the document vector\n",
    "        if token in glove_dictionary:\n",
    "            emb_avgs.append(np.average(glove_vectors[glove_dictionary[token]]))\n",
    "        else:\n",
    "            emb_avgs.append(0)\n",
    "    emb_avgs = np.array(emb_avgs)\n",
    "    \n",
    "    # pad with zeroes if not enough words in song\n",
    "    if len(emb_avgs) < EMBEDDING_LENGTH:\n",
    "        emb_avgs = np.pad(emb_avgs, (0, EMBEDDING_LENGTH - len(emb_avgs)), 'constant')\n",
    "    # cut off extra tokens if too many words in song\n",
    "    else:\n",
    "        emb_avgs = emb_avgs[:EMBEDDING_LENGTH]\n",
    "        \n",
    "    embeddings.append(emb_avgs)\n",
    "\n",
    "embeddings = np.array(embeddings, dtype=float)\n"
   ]
  },
  {
   "cell_type": "markdown",
   "id": "af6dc9dc",
   "metadata": {},
   "source": [
    "**Helper Functions for Evaluation**"
   ]
  },
  {
   "cell_type": "code",
   "execution_count": 6,
   "id": "1ae1e378",
   "metadata": {},
   "outputs": [],
   "source": [
    "# counts prediction correct if predicted label is any one of the song's genres in the genre list\n",
    "def lenient_accuracy(indices, predictions):\n",
    "    correct = 0\n",
    "    for test_index, df_index in enumerate(indices):\n",
    "        for g in df_sample['Genres'].tolist()[df_index].split('; '):\n",
    "            if g == encoding_to_genre[predictions[test_index]]:\n",
    "                correct += 1\n",
    "                break\n",
    "    return correct / len(predictions)\n",
    "\n",
    "# prints song data and predictions for a sample of n songs\n",
    "def example_predictions(indices, actual, pred, count=50, lenient=False):\n",
    "    print('Predictions')\n",
    "    print('-----------')\n",
    "    headers = ['Song Name', 'Artist', 'Predicted', 'Actual', 'Correct?']\n",
    "    print_data = []\n",
    "    for i in random.sample(range(0, len(indices)), count): # get n random points from test data\n",
    "        df_index = indices[i]\n",
    "        correct = 'Yes' if pred[i] == actual[i] else 'No'\n",
    "        if lenient:\n",
    "            correct = 'No'\n",
    "            for g in df_sample['Genres'].tolist()[df_index].split('; '):\n",
    "                if g == encoding_to_genre[pred[i]]:\n",
    "                    correct = 'Yes'\n",
    "                    break\n",
    "        print_data.append([df_sample['SName'].tolist()[df_index], df_sample['Artist'].tolist()[df_index], \n",
    "                           encoding_to_genre[pred[i]], \n",
    "                            df_sample['Genres'].tolist()[df_index] if lenient else encoding_to_genre[df_sample['Top Genre'].tolist()[df_index]],\n",
    "                           correct, \n",
    "                          ])\n",
    "    print(tabulate(print_data, headers=headers))\n",
    "    \n",
    "# plots confusion matrix given predicted and true labels\n",
    "def confusion_matrices(actual, pred):\n",
    "    matrix = metrics.confusion_matrix(actual, pred)\n",
    "    labels = ['Country', 'Heavy Metal', 'Hip Hop', 'Indie', 'Pop', 'Rock']\n",
    "    cm_display = metrics.ConfusionMatrixDisplay(confusion_matrix=matrix, display_labels = labels)\n",
    "\n",
    "    fig, ax = plt.subplots(figsize=(12,10))\n",
    "    cm_display.plot(ax=ax)\n",
    "    plt.show()"
   ]
  },
  {
   "cell_type": "markdown",
   "id": "385b0d91",
   "metadata": {},
   "source": [
    "**Load pre-trained models**\n",
    "to skip training time"
   ]
  },
  {
   "cell_type": "code",
   "execution_count": 7,
   "id": "4b239e1a",
   "metadata": {},
   "outputs": [],
   "source": [
    "# Logistic Regression\n",
    "lr = None\n",
    "with open('lr_model.pkl', 'rb') as infile:\n",
    "    lr = pickle.load(infile)\n",
    "\n",
    "# LSTM\n",
    "lstm = keras.models.load_model('lstm_model')"
   ]
  },
  {
   "cell_type": "markdown",
   "id": "1c52d479",
   "metadata": {},
   "source": [
    "# Predictions"
   ]
  },
  {
   "cell_type": "code",
   "execution_count": 8,
   "id": "dd8a66e9",
   "metadata": {},
   "outputs": [],
   "source": [
    "# declare the features and labels\n",
    "X = embeddings\n",
    "y = df_sample['Top Genre']\n",
    "indices = np.arange(len(X))"
   ]
  },
  {
   "cell_type": "markdown",
   "id": "8da87929",
   "metadata": {},
   "source": [
    "**Logistic Regression Model**"
   ]
  },
  {
   "cell_type": "code",
   "execution_count": 9,
   "id": "24585f88",
   "metadata": {},
   "outputs": [
    {
     "name": "stdout",
     "output_type": "stream",
     "text": [
      "Logistic Regression Accuracy 0.469\n",
      "for multiple genres: 0.528\n"
     ]
    }
   ],
   "source": [
    "y_pred_lr = lr.predict(X)\n",
    "print(\"Logistic Regression Accuracy %.3f\" % sklearn.metrics.accuracy_score(y, y_pred_lr))\n",
    "print(\"for multiple genres: %.3f\" % lenient_accuracy(indices, y_pred_lr))"
   ]
  },
  {
   "cell_type": "code",
   "execution_count": 10,
   "id": "d378357a",
   "metadata": {},
   "outputs": [
    {
     "name": "stdout",
     "output_type": "stream",
     "text": [
      "Predictions\n",
      "-----------\n",
      "Song Name                              Artist                    Predicted    Actual       Correct?\n",
      "-------------------------------------  ------------------------  -----------  -----------  ----------\n",
      "My Wave                                Soundgarden               Pop          Rock         No\n",
      "Gum                                    Cupcakke                  Hip Hop      Hip Hop      Yes\n",
      "Happy New Year                         Never Shout Never         Pop          Indie        No\n",
      "Unnamed Feeling                        Metallica                 Pop          Rock         No\n",
      "Take a Risk                            Chris Brown               Hip Hop      Hip Hop      Yes\n",
      "Sugar Ray                              The Jesus and Mary Chain  Rock         Rock         Yes\n",
      "Trying to Get to You                   Faith Hill                Rock         Country      No\n",
      "Hi, Hi, Hi,                            Paul McCartney            Rock         Rock         Yes\n",
      "Great Heathen Army                     Iced Earth                Rock         Heavy Metal  No\n",
      "Never Walk Alone...A Call To Arms      Megadeth                  Pop          Heavy Metal  No\n",
      "I Love America                         Alice Cooper              Hip Hop      Rock         No\n",
      "Idolatrine                             Ghost                     Hip Hop      Heavy Metal  No\n",
      "Primadonna                             MARINA                    Hip Hop      Pop          No\n",
      "Oo-Wee                                 Ringo Starr               Rock         Rock         Yes\n",
      "Castillo Del Mortes                    Mercyful Fate             Rock         Heavy Metal  No\n",
      "Dying To Be Alive                      Hanson                    Hip Hop      Pop          No\n",
      "Refusal Of Penance                     Deicide                   Rock         Heavy Metal  No\n",
      "Back to Nowhere                        Meredith Brooks           Rock         Rock         Yes\n",
      "Rock 'n' Roll Rebel                    Ozzy Osbourne             Rock         Rock         Yes\n",
      "Sillhouette                            Owl City                  Rock         Indie        No\n",
      "Straight Off The Top                   Dipset/The Diplomats      Hip Hop      Hip Hop      Yes\n",
      "Chinese Burn                           Bloc Party                Rock         Indie        No\n",
      "Maybe It's Today                       Jake Bugg                 Rock         Indie        No\n",
      "Ladybird                               Natalie Merchant          Rock         Rock         Yes\n",
      "Locked Inside Your Prison              Cliff Richard             Rock         Rock         Yes\n",
      "GATTI (With Jackboys, Pop Smoke)       Travis Scott              Hip Hop      Hip Hop      Yes\n",
      "Pill Popper                            Limp Bizkit               Rock         Rock         Yes\n",
      "Huff All Night                         The Donnas                Rock         Rock         Yes\n",
      "Down On Me                             Motörhead                 Rock         Heavy Metal  No\n",
      "White Queen (As It Began)              Queen                     Rock         Rock         Yes\n",
      "Much Like Falling                      Flyleaf                   Rock         Rock         Yes\n",
      "Nothing Left                           One Night Only            Rock         Indie        No\n",
      "When Love Comes To Town                U2                        Pop          Rock         No\n",
      "The King                               Dr. Sin                   Rock         Rock         Yes\n",
      "Exclusively                            The Game                  Hip Hop      Hip Hop      Yes\n",
      "Pussy Print (Feat. Kanye West)         Gucci Mane                Hip Hop      Hip Hop      Yes\n",
      "Legions                                Soulfly                   Rock         Heavy Metal  No\n",
      "Susanne                                Weezer                    Rock         Indie        No\n",
      "Start Over                             Imagine Dragons           Rock         Rock         Yes\n",
      "Get a Life                             Queensrÿche               Rock         Heavy Metal  No\n",
      "Through                                Jimmy Eat World           Rock         Rock         Yes\n",
      "Broken                                 Sentenced                 Rock         Heavy Metal  No\n",
      "The Longest Way                        Paul Brandt               Pop          Country      No\n",
      "Heart Of The Country                   Paul McCartney            Rock         Rock         Yes\n",
      "Stalemate (feat. Anastacia)            Ben's Brother             Rock         Rock         Yes\n",
      "Miss You Much                          Janet Jackson             Rock         Pop          No\n",
      "A Day Is Far Too Long                  Graham Coxon              Rock         Indie        No\n",
      "Take Your Carriage Clock And Shove It  Belle & Sebastian         Rock         Indie        No\n",
      "Free                                   Faith Hill                Rock         Country      No\n",
      "Ramona (With The Tide)                 Cody Simpson              Rock         Pop          No\n"
     ]
    }
   ],
   "source": [
    "example_predictions(indices, y, y_pred_lr, lenient=False)"
   ]
  },
  {
   "cell_type": "markdown",
   "id": "82adeab4",
   "metadata": {},
   "source": [
    "**LSTM Model**"
   ]
  },
  {
   "cell_type": "code",
   "execution_count": 11,
   "id": "0a61dd4d",
   "metadata": {},
   "outputs": [
    {
     "name": "stdout",
     "output_type": "stream",
     "text": [
      "4/4 [==============================] - 5s 389ms/step\n",
      "LSTM RNN Accuracy 0.478\n",
      "for multiple genres: 0.539\n"
     ]
    }
   ],
   "source": [
    "y_pred_lstm = lstm.predict(X, batch_size=120)\n",
    "y_pred_lstm = y_pred_lstm.argmax(axis=1)\n",
    "print(\"LSTM RNN Accuracy %.3f\" % metrics.accuracy_score(y, y_pred_lstm))\n",
    "print(\"for multiple genres: %.3f\" % lenient_accuracy(indices, y_pred_lstm))\n"
   ]
  },
  {
   "cell_type": "code",
   "execution_count": 12,
   "id": "d4686342",
   "metadata": {},
   "outputs": [
    {
     "name": "stdout",
     "output_type": "stream",
     "text": [
      "Predictions\n",
      "-----------\n",
      "Song Name                     Artist                    Predicted    Actual       Correct?\n",
      "----------------------------  ------------------------  -----------  -----------  ----------\n",
      "Minus Human                   Metallica                 Rock         Rock         Yes\n",
      "I Can do It Without You       Kaiser Chiefs             Rock         Indie        No\n",
      "Prophecies                    Blind Guardian            Hip Hop      Heavy Metal  No\n",
      "Illuminati                    Korn                      Rock         Heavy Metal  No\n",
      "Misty Blue                    Korn                      Rock         Heavy Metal  No\n",
      "Poison                        Motörhead                 Rock         Heavy Metal  No\n",
      "New Romantics                 Taylor Swift              Hip Hop      Pop          No\n",
      "The Beauty Within You         Ariana Grande             Rock         Pop          No\n",
      "Life Rolls On                 Florida Georgia Line      Pop          Country      No\n",
      "Refusal Of Penance            Deicide                   Rock         Heavy Metal  No\n",
      "In Time                       Timbaland                 Hip Hop      Hip Hop      Yes\n",
      "Beautiful (drop Dead)         Ester Dean                Hip Hop      Hip Hop      Yes\n",
      "Come Again                    Staind                    Rock         Rock         Yes\n",
      "Flight Of Icarus              Iron Maiden               Rock         Heavy Metal  No\n",
      "Quit                          Ariana Grande             Pop          Pop          Yes\n",
      "Lightning Turns Sawdust Gold  Sleigh Bells              Rock         Indie        No\n",
      "Chinese Burn                  Bloc Party                Rock         Indie        No\n",
      "The Boys (feat. Cassie)       Nicki Minaj               Hip Hop      Hip Hop      Yes\n",
      "Snakecharmer                  Rage Against The Machine  Rock         Rock         Yes\n",
      "Up                            The Saturdays             Rock         Pop          No\n",
      "Summing The Wretch            Animal Collective         Rock         Indie        No\n",
      "Desert Rose                   Grave Digger              Rock         Heavy Metal  No\n",
      "Somehow, Someday              Yes                       Rock         Rock         Yes\n",
      "Don't Stop                    Aerosmith                 Rock         Rock         Yes\n",
      "In My Time                    Nazareth                  Rock         Rock         Yes\n",
      "Insane                        Scars On Broadway         Rock         Rock         Yes\n",
      "Down On Music Row             Dolly Parton              Rock         Country      No\n",
      "Megatron                      Nicki Minaj               Pop          Hip Hop      No\n",
      "Through                       Jimmy Eat World           Rock         Rock         Yes\n",
      "The Spider                    Weezer                    Rock         Indie        No\n",
      "Stunt Queen                   Bloc Party                Pop          Indie        No\n",
      "To Be Dead                    Deicide                   Rock         Heavy Metal  No\n",
      "Take On Me                    Vision Divine             Rock         Heavy Metal  No\n",
      "Woo Hoo                       Kesha                     Hip Hop      Pop          No\n",
      "Start Over                    Imagine Dragons           Rock         Rock         Yes\n",
      "The Pit and the Pendulum      Rage                      Rock         Heavy Metal  No\n",
      "Electra Heart                 MARINA                    Rock         Pop          No\n",
      "I Can't Stand It              Wilco                     Rock         Rock         Yes\n",
      "Tenderfoot                    The Lemonheads            Hip Hop      Rock         No\n",
      "One By One                    The Ting Tings            Rock         Indie        No\n",
      "I'm So Miserable              Billy Ray Cyrus           Rock         Country      No\n",
      "Foggy Mountain Top            Bill Monroe               Pop          Country      No\n",
      "World Is Empty                J. Cole                   Hip Hop      Hip Hop      Yes\n",
      "Wrath Upon Ourselves          As I Lay Dying            Rock         Heavy Metal  No\n",
      "Running                       Smith/Kotzen              Rock         Rock         Yes\n",
      "Some                          Placebo                   Rock         Rock         Yes\n",
      "Wicked Game                   Stone Sour                Rock         Rock         Yes\n",
      "Bartender's Blues             George Jones              Rock         Country      No\n",
      "To The Yard                   Jasmine Villegas          Rock         Pop          No\n",
      "Back Seat                     Atlas Genius              Rock         Indie        No\n"
     ]
    }
   ],
   "source": [
    "example_predictions(indices, y, y_pred_lstm, lenient=False)"
   ]
  },
  {
   "cell_type": "markdown",
   "id": "65e333ae",
   "metadata": {},
   "source": [
    "**Confusion Matrices**"
   ]
  },
  {
   "cell_type": "code",
   "execution_count": 13,
   "id": "1100a3b2",
   "metadata": {},
   "outputs": [
    {
     "data": {
      "image/png": "[encoded data removed]",
      "text/plain": [
       "<Figure size 864x720 with 2 Axes>"
      ]
     },
     "metadata": {
      "needs_background": "light"
     },
     "output_type": "display_data"
    },
    {
     "data": {
      "image/png": "[encoded data removed]",
      "text/plain": [
       "<Figure size 864x720 with 2 Axes>"
      ]
     },
     "metadata": {
      "needs_background": "light"
     },
     "output_type": "display_data"
    }
   ],
   "source": [
    "confusion_matrices(y.tolist(), y_pred_lr)\n",
    "confusion_matrices(y.tolist(), y_pred_lstm)"
   ]
  }
 ],
 "metadata": {
  "kernelspec": {
   "display_name": "Python 3 (ipykernel)",
   "language": "python",
   "name": "python3"
  },
  "language_info": {
   "codemirror_mode": {
    "name": "ipython",
    "version": 3
   },
   "file_extension": ".py",
   "mimetype": "text/x-python",
   "name": "python",
   "nbconvert_exporter": "python",
   "pygments_lexer": "ipython3",
   "version": "3.9.12"
  }
 },
 "nbformat": 4,
 "nbformat_minor": 5
}
